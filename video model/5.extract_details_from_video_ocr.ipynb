{
 "cells": [
  {
   "cell_type": "code",
   "execution_count": 2,
   "metadata": {},
   "outputs": [],
   "source": [
    "#%pip install opencv-python"
   ]
  },
  {
   "cell_type": "code",
   "execution_count": 3,
   "metadata": {},
   "outputs": [
    {
     "name": "stdout",
     "output_type": "stream",
     "text": [
      "Requirement already satisfied: pytesseract in c:\\users\\naveen.muralidharan\\appdata\\local\\packages\\pythonsoftwarefoundation.python.3.9_qbz5n2kfra8p0\\localcache\\local-packages\\python39\\site-packages (0.3.10)\n",
      "Requirement already satisfied: packaging>=21.3 in c:\\users\\naveen.muralidharan\\appdata\\local\\packages\\pythonsoftwarefoundation.python.3.9_qbz5n2kfra8p0\\localcache\\local-packages\\python39\\site-packages (from pytesseract) (23.0)\n",
      "Requirement already satisfied: Pillow>=8.0.0 in c:\\users\\naveen.muralidharan\\appdata\\local\\packages\\pythonsoftwarefoundation.python.3.9_qbz5n2kfra8p0\\localcache\\local-packages\\python39\\site-packages (from pytesseract) (9.4.0)\n",
      "Requirement already satisfied: imutils in c:\\users\\naveen.muralidharan\\appdata\\local\\packages\\pythonsoftwarefoundation.python.3.9_qbz5n2kfra8p0\\localcache\\local-packages\\python39\\site-packages (0.5.4)\n"
     ]
    }
   ],
   "source": [
    "!pip install pytesseract\n",
    "!pip install imutils"
   ]
  },
  {
   "cell_type": "code",
   "execution_count": 4,
   "metadata": {},
   "outputs": [
    {
     "name": "stderr",
     "output_type": "stream",
     "text": [
      "C:\\Users\\naveen.muralidharan\\AppData\\Local\\Packages\\PythonSoftwareFoundation.Python.3.9_qbz5n2kfra8p0\\LocalCache\\local-packages\\Python39\\site-packages\\tqdm\\auto.py:21: TqdmWarning: IProgress not found. Please update jupyter and ipywidgets. See https://ipywidgets.readthedocs.io/en/stable/user_install.html\n",
      "  from .autonotebook import tqdm as notebook_tqdm\n"
     ]
    }
   ],
   "source": [
    "import os\n",
    "import time\n",
    "import pickle\n",
    "import cv2\n",
    "import pytesseract\n",
    "import numpy as np  \n",
    "from keras import applications\n",
    "from keras.applications.inception_v3 import preprocess_input\n",
    "from keras.utils.image_utils import img_to_array\n",
    "from keras.models import Model\n",
    "import re\n",
    "import cv2\n",
    "from imutils import contours\n",
    "import random\n",
    "from transformers import (\n",
    "    GPT2Config,\n",
    "    GPT2LMHeadModel,\n",
    "    GPT2PreTrainedModel,\n",
    "    GPT2Tokenizer,\n",
    "    PreTrainedModel,\n",
    "    PreTrainedTokenizer,\n",
    ")"
   ]
  },
  {
   "cell_type": "code",
   "execution_count": 5,
   "metadata": {},
   "outputs": [],
   "source": [
    "def extract_text_from_roi(frame_count, x, y, w, h, img):\n",
    "    roi = img[y:y+h, x:x+w]\n",
    "    cv2.imwrite(f'temp/extracted_{frame_count}.jpg', roi)\n",
    "        # Convert ROI to grayscale\n",
    "    roi_gray = cv2.cvtColor(roi, cv2.COLOR_BGR2GRAY)\n",
    "    \"\"\" # Apply adaptive thresholding\n",
    "    roi_threshold = cv2.adaptiveThreshold(roi_gray, 255, cv2.ADAPTIVE_THRESH_MEAN_C, cv2.THRESH_BINARY, 11, 2)\n",
    "         # Perform morphological operations (e.g., erosion and dilation)\n",
    "    kernel = cv2.getStructuringElement(cv2.MORPH_RECT, (3, 3))\n",
    "    roi_processed = cv2.morphologyEx(roi_threshold, cv2.MORPH_CLOSE, kernel)\"\"\"\n",
    "      \n",
    "    text = pytesseract.image_to_string(roi_gray)   \n",
    "    text = re.sub(r'\\d', '', text) \n",
    "    if '\\n' in text:\n",
    "        first_line = text.split('\\n')[0]\n",
    "    else:\n",
    "        first_line = text\n",
    "    #print(first_line)\n",
    "    #print(first_line)\n",
    "    return first_line"
   ]
  },
  {
   "cell_type": "code",
   "execution_count": 6,
   "metadata": {},
   "outputs": [],
   "source": [
    "def getScore(x, y, w, h, img):\n",
    "    keywords = {'1', '2', '3', '4', '6', 'WD', 'W'}\n",
    "    roi = img[y:y+h, x:x+w]\n",
    "    gray_image = cv2.cvtColor(roi, cv2.COLOR_BGR2GRAY)\n",
    "    text = pytesseract.image_to_string(gray_image)# Preprocess the grayscale image (optional)\n",
    "    print(text)\n",
    "    return text"
   ]
  },
  {
   "cell_type": "code",
   "execution_count": null,
   "metadata": {},
   "outputs": [],
   "source": []
  },
  {
   "cell_type": "code",
   "execution_count": 7,
   "metadata": {},
   "outputs": [],
   "source": [
    "def GenerateCommentarybasedonEvent(model_dir, prompt):\n",
    "\n",
    "    model = GPT2LMHeadModel.from_pretrained(model_dir)\n",
    "    tokenizer = GPT2Tokenizer.from_pretrained(model_dir)\n",
    "    commentary_string =''\n",
    "    input_ids = tokenizer.encode(prompt, return_tensors='pt')\n",
    "\n",
    "    sample_outputs = model.generate(\n",
    "                        input_ids= input_ids,\n",
    "                        do_sample = True,\n",
    "                        #num_beams= 5,\n",
    "                        max_length = 100,\n",
    "                        top_k = 50,\n",
    "                        top_p=0.85, \n",
    "                        num_return_sequences=1\n",
    "                    )\n",
    "\n",
    "    print(\"Output:\\n\" + 100 * '-')\n",
    "    for i, sample_output in enumerate(sample_outputs):\n",
    "          print(\"{}: {}\".format(i, tokenizer.decode(sample_output, skip_special_tokens=True)))\n",
    "          commentary_string = commentary_string +\".\" +tokenizer.decode(sample_output, skip_special_tokens=True)\n",
    "\n",
    "    return commentary_string"
   ]
  },
  {
   "cell_type": "code",
   "execution_count": 8,
   "metadata": {},
   "outputs": [],
   "source": [
    "def generateCommentary(batsman,bowler,score):\n",
    "    l = [0, 1, 6, 4, 'W', 'WD']\n",
    "    score = random.choice(l)\n",
    "    raw_commentary=''\n",
    "    if score == 0:\n",
    "        str_model_norun = '../commentary model/Models/Model_NoRun'\n",
    "        raw_commentary= GenerateCommentarybasedonEvent(str_model_norun, \"No runs scored\" )\n",
    "    elif score == 6:\n",
    "        str_model_six = '../commentary model/Models/Model_Six'\n",
    "        raw_commentary= GenerateCommentarybasedonEvent(str_model_six, f'{batsman} hits a six' )\n",
    "    elif score == 4:\n",
    "        str_model_Four = '../commentary model/Models/Model_Four'\n",
    "        raw_commentary= GenerateCommentarybasedonEvent(str_model_Four, f'{batsman} hits a four' )\n",
    "    elif score == 1:\n",
    "        str_model_One = '../commentary model/Models/Model_One'\n",
    "        raw_commentary= GenerateCommentarybasedonEvent(str_model_One, f'{batsman} hits a 1 run,' )\n",
    "    elif score =='W':\n",
    "        str_model_One = '../commentary model/Models/Model_Out'\n",
    "        raw_commentary= GenerateCommentarybasedonEvent(str_model_One, f'{batsman} is out' )\n",
    "    else:\n",
    "        print(\"unknown\")\n",
    "\n",
    "    commentary = raw_commentary.replace(\"{{BATSMAN}}\",batsman).replace(\"{{BOWLER}}\",bowler)\n",
    "    return commentary"
   ]
  },
  {
   "cell_type": "code",
   "execution_count": 9,
   "metadata": {},
   "outputs": [
    {
     "name": "stdout",
     "output_type": "stream",
     "text": [
      "Output Bats1 RAHANE \n",
      "Output Bats2 # GAIKWAD \n",
      "Output bowl ARSHAD - . |\n",
      "wo1 1woel 1\n",
      "\n",
      "Score wo1 1woel 1\n",
      "\n"
     ]
    },
    {
     "name": "stderr",
     "output_type": "stream",
     "text": [
      "The attention mask and the pad token id were not set. As a consequence, you may observe unexpected behavior. Please pass your input's `attention_mask` to obtain reliable results.\n",
      "Setting `pad_token_id` to `eos_token_id`:50256 for open-end generation.\n"
     ]
    },
    {
     "name": "stdout",
     "output_type": "stream",
     "text": [
      "Output:\n",
      "----------------------------------------------------------------------------------------------------\n",
      "0:  GAIKWAD  hits a 1 run, and then his 2nd hit of the season.\n",
      "\n",
      "\"He got a 2nd and a 2,\" White said. \"That's an awesome thing to say. He's going to be hitting a lot of balls. He's going to be playing right away, and it's going to take him a few years to get it to the plate.\n",
      "\n",
      "\"We are going to try to play the game of catch.\"\n",
      "\n",
      "Alf\n",
      "Generated Commentary: . GAIKWAD  hits a 1 run, and then his 2nd hit of the season.\n",
      "\n",
      "\"He got a 2nd and a 2,\" White said. \"That's an awesome thing to say. He's going to be hitting a lot of balls. He's going to be playing right away, and it's going to take him a few years to get it to the plate.\n",
      "\n",
      "\"We are going to try to play the game of catch.\"\n",
      "\n",
      "Alf\n",
      "Output Bats1 RAHANE \n",
      "Output Bats2 # GAIKWAD \n",
      "Output bowl ARSHAD - . |\n",
      "wo 1 1Wwoe]1 1\n",
      "\n",
      "Score wo 1 1Wwoe]1 1\n",
      "\n"
     ]
    },
    {
     "name": "stderr",
     "output_type": "stream",
     "text": [
      "The attention mask and the pad token id were not set. As a consequence, you may observe unexpected behavior. Please pass your input's `attention_mask` to obtain reliable results.\n",
      "Setting `pad_token_id` to `eos_token_id`:50256 for open-end generation.\n"
     ]
    },
    {
     "name": "stdout",
     "output_type": "stream",
     "text": [
      "Output:\n",
      "----------------------------------------------------------------------------------------------------\n",
      "0:  GAIKWAD  hits a 1 run, which will give us a two-run lead and we start to move forward. It's still early in the game and this is going to be one of those days where it's just one swing, a one-hit game and you have to do something about it. It doesn't work that way in the game. It's all good, but you have to be creative and keep it coming. It's just a different team at the moment.\"\n",
      "Generated Commentary: . GAIKWAD  hits a 1 run, which will give us a two-run lead and we start to move forward. It's still early in the game and this is going to be one of those days where it's just one swing, a one-hit game and you have to do something about it. It doesn't work that way in the game. It's all good, but you have to be creative and keep it coming. It's just a different team at the moment.\"\n",
      "Output Bats1 RAHANE \n",
      "Output Bats2 # GAIKWAD \n",
      "Output bowl ARSHAD - . |\n",
      "wo 11Wwoe]1 1\n",
      "\n",
      "Score wo 11Wwoe]1 1\n",
      "\n",
      "unknown\n",
      "Generated Commentary: \n",
      "Output Bats1 RAHANE \n",
      "Output Bats2 # GAIKWAD \n",
      "Output bowl ARSHAD - . |\n",
      "wo11Wwoe]1 1\n",
      "\n",
      "Score wo11Wwoe]1 1\n",
      "\n"
     ]
    },
    {
     "name": "stderr",
     "output_type": "stream",
     "text": [
      "The attention mask and the pad token id were not set. As a consequence, you may observe unexpected behavior. Please pass your input's `attention_mask` to obtain reliable results.\n",
      "Setting `pad_token_id` to `eos_token_id`:50256 for open-end generation.\n"
     ]
    },
    {
     "name": "stdout",
     "output_type": "stream",
     "text": [
      "Output:\n",
      "----------------------------------------------------------------------------------------------------\n",
      "0:  GAIKWAD  hits a six-run shot to tie the score at 1-1, but he's only been on his feet the length of the pitch for this one\n",
      "{{BOWLER}} to {{BATSMAN}}, SIX, no chance. He didn't have a shot to swing it over deep mid-wicket.\n",
      "{{BOWLER}} to {{BATSMAN}}, SIX, you can't do that, this is a huge hit from {{\n",
      "Generated Commentary: . GAIKWAD  hits a six-run shot to tie the score at 1-1, but he's only been on his feet the length of the pitch for this one\n",
      "{{BOWLER}} to {{BATSMAN}}, SIX, no chance. He didn't have a shot to swing it over deep mid-wicket.\n",
      "{{BOWLER}} to {{BATSMAN}}, SIX, you can't do that, this is a huge hit from {{\n",
      "Output Bats1 RAHANE \n",
      "Output Bats2 # GAIKWAD \n",
      "Output bowl ARSHAD - . |\n",
      "wo11Wwoe]1 1\n",
      "\n",
      "Score wo11Wwoe]1 1\n",
      "\n",
      "unknown\n",
      "Generated Commentary: \n",
      "Output Bats1 RAHANE \n",
      "Output Bats2 # GAIKWAD \n",
      "Output bowl ARSHAD - . |\n",
      "wo11Wwoe]1 1\n",
      "\n",
      "Score wo11Wwoe]1 1\n",
      "\n",
      "unknown\n",
      "Generated Commentary: \n",
      "Output Bats1 RAHANE \n",
      "Output Bats2 # GAIKWAD \n",
      "Output bowl ARSHAD - . |\n",
      "wo11Wwoe] 1\n",
      "\n",
      "Score wo11Wwoe] 1\n",
      "\n"
     ]
    },
    {
     "name": "stderr",
     "output_type": "stream",
     "text": [
      "The attention mask and the pad token id were not set. As a consequence, you may observe unexpected behavior. Please pass your input's `attention_mask` to obtain reliable results.\n",
      "Setting `pad_token_id` to `eos_token_id`:50256 for open-end generation.\n"
     ]
    },
    {
     "name": "stdout",
     "output_type": "stream",
     "text": [
      "Output:\n",
      "----------------------------------------------------------------------------------------------------\n",
      "0:  GAIKWAD  hits a six, who has been on a roll. He has seen it all over again, this time over mid-wicket.\n",
      "{{BOWLER}} to {{BATSMAN}}, SIX, that's a good look from {{BATSMAN}}!\n",
      "{{BOWLER}} to {{BATSMAN}}, SIX, fine timing, gets into the crease and gets to {{BATSMAN}}, pulls it over long-on.\n",
      "Generated Commentary: . GAIKWAD  hits a six, who has been on a roll. He has seen it all over again, this time over mid-wicket.\n",
      "{{BOWLER}} to {{BATSMAN}}, SIX, that's a good look from {{BATSMAN}}!\n",
      "{{BOWLER}} to {{BATSMAN}}, SIX, fine timing, gets into the crease and gets to {{BATSMAN}}, pulls it over long-on.\n",
      "Output Bats1 RAHANE \n",
      "Output Bats2 # GAIKWAD \n",
      "Output bowl ARSHAD - . |\n",
      "wo11Wwoe] 1\n",
      "\n",
      "Score wo11Wwoe] 1\n",
      "\n",
      "unknown\n",
      "Generated Commentary: \n",
      "Output Bats1 RAHANE \n",
      "Output Bats2 # GAIKWAD \n",
      "Output bowl ARSHAD - . |\n",
      "wo11Wwoe]1 1\n",
      "\n",
      "Score wo11Wwoe]1 1\n",
      "\n"
     ]
    },
    {
     "name": "stderr",
     "output_type": "stream",
     "text": [
      "The attention mask and the pad token id were not set. As a consequence, you may observe unexpected behavior. Please pass your input's `attention_mask` to obtain reliable results.\n",
      "Setting `pad_token_id` to `eos_token_id`:50256 for open-end generation.\n"
     ]
    },
    {
     "name": "stdout",
     "output_type": "stream",
     "text": [
      "Output:\n",
      "----------------------------------------------------------------------------------------------------\n",
      "0:  GAIKWAD  hits a six over from Atsu over long-on. It was a low-handed sweep and he got away with it with ease\n",
      "{{BOWLER}} to {{BATSMAN}}, S Volkswagen, that is the ball, that is the ball! You have seen the ball! How much power does this ball have when it has been given to him by his batsman, and now it is hitting the batsman with it? It is unbelievable. It\n",
      "Generated Commentary: . GAIKWAD  hits a six over from Atsu over long-on. It was a low-handed sweep and he got away with it with ease\n",
      "{{BOWLER}} to {{BATSMAN}}, S Volkswagen, that is the ball, that is the ball! You have seen the ball! How much power does this ball have when it has been given to him by his batsman, and now it is hitting the batsman with it? It is unbelievable. It\n",
      "Output Bats1 RAHANE \n",
      "Output Bats2 # GAIKWAD \n",
      "Output bowl ARSHAD - .\n",
      "wo 1 1Wwoe1 1\n",
      "\n",
      "Score wo 1 1Wwoe1 1\n",
      "\n"
     ]
    },
    {
     "name": "stderr",
     "output_type": "stream",
     "text": [
      "The attention mask and the pad token id were not set. As a consequence, you may observe unexpected behavior. Please pass your input's `attention_mask` to obtain reliable results.\n",
      "Setting `pad_token_id` to `eos_token_id`:50256 for open-end generation.\n"
     ]
    },
    {
     "name": "stdout",
     "output_type": "stream",
     "text": [
      "Output:\n",
      "----------------------------------------------------------------------------------------------------\n",
      "0:  GAIKWAD  hits a 1 run, and B.H.W. gets to it. B.H.W. walks to the right of the line. He runs a single up the middle that falls to the right side of the field, which B.H.W. has to scramble down, but the catcher can't get him to the catcher's feet. As he continues to throw the ball, it hits the catcher in the throat, and his backhands bounce up and\n",
      "Generated Commentary: . GAIKWAD  hits a 1 run, and B.H.W. gets to it. B.H.W. walks to the right of the line. He runs a single up the middle that falls to the right side of the field, which B.H.W. has to scramble down, but the catcher can't get him to the catcher's feet. As he continues to throw the ball, it hits the catcher in the throat, and his backhands bounce up and\n",
      "Output Bats1 RAHANE \n",
      "Output Bats2 # GAIKWAD \n",
      "Output bowl ARSHAD - .\n",
      "wo11Wwoe]1 1\n",
      "\n",
      "Score wo11Wwoe]1 1\n",
      "\n",
      "unknown\n",
      "Generated Commentary: \n",
      "Output Bats1 RAHANE \n",
      "Output Bats2 # GAIKWAD \n",
      "Output bowl ARSHAD - .\n",
      "wo11Wwoe1 1\n",
      "\n",
      "Score wo11Wwoe1 1\n",
      "\n"
     ]
    },
    {
     "data": {
      "text/html": [
       "<pre style=\"white-space:pre;overflow-x:auto;line-height:normal;font-family:Menlo,'DejaVu Sans Mono',consolas,'Courier New',monospace\"><span style=\"color: #800000; text-decoration-color: #800000\">╭─────────────────────────────── </span><span style=\"color: #800000; text-decoration-color: #800000; font-weight: bold\">Traceback </span><span style=\"color: #bf7f7f; text-decoration-color: #bf7f7f; font-weight: bold\">(most recent call last)</span><span style=\"color: #800000; text-decoration-color: #800000\"> ────────────────────────────────╮</span>\n",
       "<span style=\"color: #800000; text-decoration-color: #800000\">│</span> <span style=\"color: #808000; text-decoration-color: #808000\">C:\\Users\\naveen.muralidharan\\AppData\\Local\\Temp\\ipykernel_3564\\1336139700.py</span>:<span style=\"color: #0000ff; text-decoration-color: #0000ff\">43</span> in <span style=\"color: #00ff00; text-decoration-color: #00ff00\">&lt;module&gt;</span>      <span style=\"color: #800000; text-decoration-color: #800000\">│</span>\n",
       "<span style=\"color: #800000; text-decoration-color: #800000\">│</span>                                                                                                  <span style=\"color: #800000; text-decoration-color: #800000\">│</span>\n",
       "<span style=\"color: #800000; text-decoration-color: #800000\">│</span> <span style=\"color: #800000; text-decoration-color: #800000; font-style: italic\">[Errno 2] No such file or directory: </span>                                                            <span style=\"color: #800000; text-decoration-color: #800000\">│</span>\n",
       "<span style=\"color: #800000; text-decoration-color: #800000\">│</span> <span style=\"color: #800000; text-decoration-color: #800000; font-style: italic\">'C:\\\\Users\\\\naveen.muralidharan\\\\AppData\\\\Local\\\\Temp\\\\ipykernel_3564\\\\1336139700.py'</span>            <span style=\"color: #800000; text-decoration-color: #800000\">│</span>\n",
       "<span style=\"color: #800000; text-decoration-color: #800000\">│</span>                                                                                                  <span style=\"color: #800000; text-decoration-color: #800000\">│</span>\n",
       "<span style=\"color: #800000; text-decoration-color: #800000\">│</span> <span style=\"color: #808000; text-decoration-color: #808000\">C:\\Users\\naveen.muralidharan\\AppData\\Local\\Temp\\ipykernel_3564\\3289721542.py</span>:<span style=\"color: #0000ff; text-decoration-color: #0000ff\">13</span> in               <span style=\"color: #800000; text-decoration-color: #800000\">│</span>\n",
       "<span style=\"color: #800000; text-decoration-color: #800000\">│</span> <span style=\"color: #00ff00; text-decoration-color: #00ff00\">generateCommentary</span>                                                                               <span style=\"color: #800000; text-decoration-color: #800000\">│</span>\n",
       "<span style=\"color: #800000; text-decoration-color: #800000\">│</span>                                                                                                  <span style=\"color: #800000; text-decoration-color: #800000\">│</span>\n",
       "<span style=\"color: #800000; text-decoration-color: #800000\">│</span> <span style=\"color: #800000; text-decoration-color: #800000; font-style: italic\">[Errno 2] No such file or directory: </span>                                                            <span style=\"color: #800000; text-decoration-color: #800000\">│</span>\n",
       "<span style=\"color: #800000; text-decoration-color: #800000\">│</span> <span style=\"color: #800000; text-decoration-color: #800000; font-style: italic\">'C:\\\\Users\\\\naveen.muralidharan\\\\AppData\\\\Local\\\\Temp\\\\ipykernel_3564\\\\3289721542.py'</span>            <span style=\"color: #800000; text-decoration-color: #800000\">│</span>\n",
       "<span style=\"color: #800000; text-decoration-color: #800000\">│</span>                                                                                                  <span style=\"color: #800000; text-decoration-color: #800000\">│</span>\n",
       "<span style=\"color: #800000; text-decoration-color: #800000\">│</span> <span style=\"color: #808000; text-decoration-color: #808000\">C:\\Users\\naveen.muralidharan\\AppData\\Local\\Temp\\ipykernel_3564\\3695080567.py</span>:<span style=\"color: #0000ff; text-decoration-color: #0000ff\">3</span> in                <span style=\"color: #800000; text-decoration-color: #800000\">│</span>\n",
       "<span style=\"color: #800000; text-decoration-color: #800000\">│</span> <span style=\"color: #00ff00; text-decoration-color: #00ff00\">GenerateCommentarybasedonEvent</span>                                                                   <span style=\"color: #800000; text-decoration-color: #800000\">│</span>\n",
       "<span style=\"color: #800000; text-decoration-color: #800000\">│</span>                                                                                                  <span style=\"color: #800000; text-decoration-color: #800000\">│</span>\n",
       "<span style=\"color: #800000; text-decoration-color: #800000\">│</span> <span style=\"color: #800000; text-decoration-color: #800000; font-style: italic\">[Errno 2] No such file or directory: </span>                                                            <span style=\"color: #800000; text-decoration-color: #800000\">│</span>\n",
       "<span style=\"color: #800000; text-decoration-color: #800000\">│</span> <span style=\"color: #800000; text-decoration-color: #800000; font-style: italic\">'C:\\\\Users\\\\naveen.muralidharan\\\\AppData\\\\Local\\\\Temp\\\\ipykernel_3564\\\\3695080567.py'</span>            <span style=\"color: #800000; text-decoration-color: #800000\">│</span>\n",
       "<span style=\"color: #800000; text-decoration-color: #800000\">│</span>                                                                                                  <span style=\"color: #800000; text-decoration-color: #800000\">│</span>\n",
       "<span style=\"color: #800000; text-decoration-color: #800000\">│</span> <span style=\"color: #808000; text-decoration-color: #808000\">C:\\Users\\naveen.muralidharan\\AppData\\Local\\Packages\\PythonSoftwareFoundation.Python.3.9_qbz5n2kf</span> <span style=\"color: #800000; text-decoration-color: #800000\">│</span>\n",
       "<span style=\"color: #800000; text-decoration-color: #800000\">│</span> <span style=\"color: #808000; text-decoration-color: #808000\">ra8p0\\LocalCache\\local-packages\\Python39\\site-packages\\transformers\\modeling_utils.py</span>:<span style=\"color: #0000ff; text-decoration-color: #0000ff\">2405</span> in    <span style=\"color: #800000; text-decoration-color: #800000\">│</span>\n",
       "<span style=\"color: #800000; text-decoration-color: #800000\">│</span> <span style=\"color: #00ff00; text-decoration-color: #00ff00\">from_pretrained</span>                                                                                  <span style=\"color: #800000; text-decoration-color: #800000\">│</span>\n",
       "<span style=\"color: #800000; text-decoration-color: #800000\">│</span>                                                                                                  <span style=\"color: #800000; text-decoration-color: #800000\">│</span>\n",
       "<span style=\"color: #800000; text-decoration-color: #800000\">│</span>   <span style=\"color: #7f7f7f; text-decoration-color: #7f7f7f\">2402 │   │   │   │   │   │   </span><span style=\"color: #808000; text-decoration-color: #808000\">\" to load this model from those weights.\"</span>                         <span style=\"color: #800000; text-decoration-color: #800000\">│</span>\n",
       "<span style=\"color: #800000; text-decoration-color: #800000\">│</span>   <span style=\"color: #7f7f7f; text-decoration-color: #7f7f7f\">2403 │   │   │   │   │   </span>)                                                                     <span style=\"color: #800000; text-decoration-color: #800000\">│</span>\n",
       "<span style=\"color: #800000; text-decoration-color: #800000\">│</span>   <span style=\"color: #7f7f7f; text-decoration-color: #7f7f7f\">2404 │   │   │   │   </span><span style=\"color: #0000ff; text-decoration-color: #0000ff\">else</span>:                                                                     <span style=\"color: #800000; text-decoration-color: #800000\">│</span>\n",
       "<span style=\"color: #800000; text-decoration-color: #800000\">│</span> <span style=\"color: #800000; text-decoration-color: #800000\">❱ </span>2405 <span style=\"color: #7f7f7f; text-decoration-color: #7f7f7f\">│   │   │   │   │   </span><span style=\"color: #0000ff; text-decoration-color: #0000ff\">raise</span> <span style=\"color: #00ffff; text-decoration-color: #00ffff\">EnvironmentError</span>(                                               <span style=\"color: #800000; text-decoration-color: #800000\">│</span>\n",
       "<span style=\"color: #800000; text-decoration-color: #800000\">│</span>   <span style=\"color: #7f7f7f; text-decoration-color: #7f7f7f\">2406 │   │   │   │   │   │   </span><span style=\"color: #808000; text-decoration-color: #808000\">f\"Error no file named {</span>_add_variant(WEIGHTS_NAME,<span style=\"color: #808080; text-decoration-color: #808080\"> </span>variant)<span style=\"color: #808000; text-decoration-color: #808000\">}, {</span>TF  <span style=\"color: #800000; text-decoration-color: #800000\">│</span>\n",
       "<span style=\"color: #800000; text-decoration-color: #800000\">│</span>   <span style=\"color: #7f7f7f; text-decoration-color: #7f7f7f\">2407 │   │   │   │   │   │   </span><span style=\"color: #808000; text-decoration-color: #808000\">f\" {</span>TF_WEIGHTS_NAME<span style=\"color: #808080; text-decoration-color: #808080\"> </span>+<span style=\"color: #808080; text-decoration-color: #808080\"> </span><span style=\"color: #808000; text-decoration-color: #808000\">'.index'} or {</span>FLAX_WEIGHTS_NAME<span style=\"color: #808000; text-decoration-color: #808000\">} found in </span>  <span style=\"color: #800000; text-decoration-color: #800000\">│</span>\n",
       "<span style=\"color: #800000; text-decoration-color: #800000\">│</span>   <span style=\"color: #7f7f7f; text-decoration-color: #7f7f7f\">2408 │   │   │   │   │   │   </span><span style=\"color: #808000; text-decoration-color: #808000\">f\" {</span>pretrained_model_name_or_path<span style=\"color: #808000; text-decoration-color: #808000\">}.\"</span>                              <span style=\"color: #800000; text-decoration-color: #800000\">│</span>\n",
       "<span style=\"color: #800000; text-decoration-color: #800000\">╰──────────────────────────────────────────────────────────────────────────────────────────────────╯</span>\n",
       "<span style=\"color: #ff0000; text-decoration-color: #ff0000; font-weight: bold\">OSError: </span>Error no file named pytorch_model.bin, tf_model.h5, model.ckpt.index or flax_model.msgpack found in \n",
       "directory ..<span style=\"color: #800080; text-decoration-color: #800080\">/</span><span style=\"color: #ff00ff; text-decoration-color: #ff00ff\">commentary</span> model/Models/Model_Four.\n",
       "</pre>\n"
      ],
      "text/plain": [
       "\u001b[31m╭─\u001b[0m\u001b[31m──────────────────────────────\u001b[0m\u001b[31m \u001b[0m\u001b[1;31mTraceback \u001b[0m\u001b[1;2;31m(most recent call last)\u001b[0m\u001b[31m \u001b[0m\u001b[31m───────────────────────────────\u001b[0m\u001b[31m─╮\u001b[0m\n",
       "\u001b[31m│\u001b[0m \u001b[33mC:\\Users\\naveen.muralidharan\\AppData\\Local\\Temp\\ipykernel_3564\\1336139700.py\u001b[0m:\u001b[94m43\u001b[0m in \u001b[92m<module>\u001b[0m      \u001b[31m│\u001b[0m\n",
       "\u001b[31m│\u001b[0m                                                                                                  \u001b[31m│\u001b[0m\n",
       "\u001b[31m│\u001b[0m \u001b[3;31m[Errno 2] No such file or directory: \u001b[0m                                                            \u001b[31m│\u001b[0m\n",
       "\u001b[31m│\u001b[0m \u001b[3;31m'C:\\\\Users\\\\naveen.muralidharan\\\\AppData\\\\Local\\\\Temp\\\\ipykernel_3564\\\\1336139700.py'\u001b[0m            \u001b[31m│\u001b[0m\n",
       "\u001b[31m│\u001b[0m                                                                                                  \u001b[31m│\u001b[0m\n",
       "\u001b[31m│\u001b[0m \u001b[33mC:\\Users\\naveen.muralidharan\\AppData\\Local\\Temp\\ipykernel_3564\\3289721542.py\u001b[0m:\u001b[94m13\u001b[0m in               \u001b[31m│\u001b[0m\n",
       "\u001b[31m│\u001b[0m \u001b[92mgenerateCommentary\u001b[0m                                                                               \u001b[31m│\u001b[0m\n",
       "\u001b[31m│\u001b[0m                                                                                                  \u001b[31m│\u001b[0m\n",
       "\u001b[31m│\u001b[0m \u001b[3;31m[Errno 2] No such file or directory: \u001b[0m                                                            \u001b[31m│\u001b[0m\n",
       "\u001b[31m│\u001b[0m \u001b[3;31m'C:\\\\Users\\\\naveen.muralidharan\\\\AppData\\\\Local\\\\Temp\\\\ipykernel_3564\\\\3289721542.py'\u001b[0m            \u001b[31m│\u001b[0m\n",
       "\u001b[31m│\u001b[0m                                                                                                  \u001b[31m│\u001b[0m\n",
       "\u001b[31m│\u001b[0m \u001b[33mC:\\Users\\naveen.muralidharan\\AppData\\Local\\Temp\\ipykernel_3564\\3695080567.py\u001b[0m:\u001b[94m3\u001b[0m in                \u001b[31m│\u001b[0m\n",
       "\u001b[31m│\u001b[0m \u001b[92mGenerateCommentarybasedonEvent\u001b[0m                                                                   \u001b[31m│\u001b[0m\n",
       "\u001b[31m│\u001b[0m                                                                                                  \u001b[31m│\u001b[0m\n",
       "\u001b[31m│\u001b[0m \u001b[3;31m[Errno 2] No such file or directory: \u001b[0m                                                            \u001b[31m│\u001b[0m\n",
       "\u001b[31m│\u001b[0m \u001b[3;31m'C:\\\\Users\\\\naveen.muralidharan\\\\AppData\\\\Local\\\\Temp\\\\ipykernel_3564\\\\3695080567.py'\u001b[0m            \u001b[31m│\u001b[0m\n",
       "\u001b[31m│\u001b[0m                                                                                                  \u001b[31m│\u001b[0m\n",
       "\u001b[31m│\u001b[0m \u001b[33mC:\\Users\\naveen.muralidharan\\AppData\\Local\\Packages\\PythonSoftwareFoundation.Python.3.9_qbz5n2kf\u001b[0m \u001b[31m│\u001b[0m\n",
       "\u001b[31m│\u001b[0m \u001b[33mra8p0\\LocalCache\\local-packages\\Python39\\site-packages\\transformers\\modeling_utils.py\u001b[0m:\u001b[94m2405\u001b[0m in    \u001b[31m│\u001b[0m\n",
       "\u001b[31m│\u001b[0m \u001b[92mfrom_pretrained\u001b[0m                                                                                  \u001b[31m│\u001b[0m\n",
       "\u001b[31m│\u001b[0m                                                                                                  \u001b[31m│\u001b[0m\n",
       "\u001b[31m│\u001b[0m   \u001b[2m2402 \u001b[0m\u001b[2m│   │   │   │   │   │   \u001b[0m\u001b[33m\"\u001b[0m\u001b[33m to load this model from those weights.\u001b[0m\u001b[33m\"\u001b[0m                         \u001b[31m│\u001b[0m\n",
       "\u001b[31m│\u001b[0m   \u001b[2m2403 \u001b[0m\u001b[2m│   │   │   │   │   \u001b[0m)                                                                     \u001b[31m│\u001b[0m\n",
       "\u001b[31m│\u001b[0m   \u001b[2m2404 \u001b[0m\u001b[2m│   │   │   │   \u001b[0m\u001b[94melse\u001b[0m:                                                                     \u001b[31m│\u001b[0m\n",
       "\u001b[31m│\u001b[0m \u001b[31m❱ \u001b[0m2405 \u001b[2m│   │   │   │   │   \u001b[0m\u001b[94mraise\u001b[0m \u001b[96mEnvironmentError\u001b[0m(                                               \u001b[31m│\u001b[0m\n",
       "\u001b[31m│\u001b[0m   \u001b[2m2406 \u001b[0m\u001b[2m│   │   │   │   │   │   \u001b[0m\u001b[33mf\u001b[0m\u001b[33m\"\u001b[0m\u001b[33mError no file named \u001b[0m\u001b[33m{\u001b[0m_add_variant(WEIGHTS_NAME,\u001b[90m \u001b[0mvariant)\u001b[33m}\u001b[0m\u001b[33m, \u001b[0m\u001b[33m{\u001b[0mTF  \u001b[31m│\u001b[0m\n",
       "\u001b[31m│\u001b[0m   \u001b[2m2407 \u001b[0m\u001b[2m│   │   │   │   │   │   \u001b[0m\u001b[33mf\u001b[0m\u001b[33m\"\u001b[0m\u001b[33m \u001b[0m\u001b[33m{\u001b[0mTF_WEIGHTS_NAME\u001b[90m \u001b[0m+\u001b[90m \u001b[0m\u001b[33m'\u001b[0m\u001b[33m.index\u001b[0m\u001b[33m'\u001b[0m\u001b[33m}\u001b[0m\u001b[33m or \u001b[0m\u001b[33m{\u001b[0mFLAX_WEIGHTS_NAME\u001b[33m}\u001b[0m\u001b[33m found in \u001b[0m  \u001b[31m│\u001b[0m\n",
       "\u001b[31m│\u001b[0m   \u001b[2m2408 \u001b[0m\u001b[2m│   │   │   │   │   │   \u001b[0m\u001b[33mf\u001b[0m\u001b[33m\"\u001b[0m\u001b[33m \u001b[0m\u001b[33m{\u001b[0mpretrained_model_name_or_path\u001b[33m}\u001b[0m\u001b[33m.\u001b[0m\u001b[33m\"\u001b[0m                              \u001b[31m│\u001b[0m\n",
       "\u001b[31m╰──────────────────────────────────────────────────────────────────────────────────────────────────╯\u001b[0m\n",
       "\u001b[1;91mOSError: \u001b[0mError no file named pytorch_model.bin, tf_model.h5, model.ckpt.index or flax_model.msgpack found in \n",
       "directory ..\u001b[35m/\u001b[0m\u001b[95mcommentary\u001b[0m model/Models/Model_Four.\n"
      ]
     },
     "metadata": {},
     "output_type": "display_data"
    }
   ],
   "source": [
    "\n",
    "model_load_path = os.path.abspath('./models')\n",
    "test_video_path = 'New video.mp4'\n",
    "video_summary_save_path = os.path.abspath('./results_summary')\n",
    "tesseract_path = f'C:\\Program Files\\Tesseract-OCR\\\\tesseract.exe'\n",
    "start_time = time.time()\n",
    "\n",
    "# Set the starting position\n",
    "\n",
    "#Path for the video \n",
    "vidcap = cv2.VideoCapture(f'{test_video_path}')\n",
    "vidcap.set(cv2.CAP_PROP_POS_MSEC, 120000)\n",
    "pytesseract.pytesseract.tesseract_cmd = tesseract_path\n",
    "frame_count = 0\n",
    "bats1_x,bats1_y,bats1_w,bats1_h = 650,925,430,50 # Batsman1 boundaries\n",
    "bats2_x,bats2_y,bats2_w,bats2_h = 650,990,430,50 # Batsman2 boundaries\n",
    "bowl_x,bowl_y,bowl_w,bowl_h = 1275,925,430,50  # Bowler boundaries\n",
    "score_x,score_y,score_w,score_h = 1275,985,420,50 # Score boundaries\n",
    "while (True):\n",
    "    success, img = vidcap.read()\n",
    "    \n",
    "    if success:\n",
    "        cv2.imwrite(f'frames/frame_{frame_count}.jpg', img)\n",
    "        frame_count += 1\n",
    "        batsman_1 =extract_text_from_roi(frame_count, bats1_x, bats1_y, bats1_w, bats1_h, img)\n",
    "        batsman_2 = extract_text_from_roi(frame_count, bats2_x, bats2_y, bats2_w, bats2_h, img)\n",
    "        bowler =extract_text_from_roi(frame_count, bowl_x, bowl_y, bowl_w, bowl_h, img)\n",
    "        print(\"Output Bats1\",batsman_1)\n",
    "        print(\"Output Bats2\",batsman_2)\n",
    "        print(\"Output bowl\",bowler)\n",
    "        score = getScore(score_x, score_y, score_w, score_h, img)\n",
    "        print(\"Score\",score)\n",
    "        current_batsman =''\n",
    "        if batsman_1.__contains__('#') or batsman_1.__contains__('¢'):\n",
    "            current_batsman = batsman_1.replace('#','').replace('¢','')\n",
    "        elif batsman_2.__contains__('#') or batsman_2.__contains__('¢'):\n",
    "            current_batsman = batsman_2.replace('#','').replace('¢','')\n",
    "        else:\n",
    "            current_batsman=''\n",
    "        \n",
    "        if current_batsman=='':\n",
    "            print(\"No commentary required\")\n",
    "        else:\n",
    "            commentary= generateCommentary(current_batsman,bowler,score)\n",
    "            print(\"Generated Commentary:\",commentary)\n",
    "        cv2.rectangle(img, (bowl_x, bowl_y), (bowl_x+bowl_w, bowl_y+bowl_h), (0, 20, 255), 2)\n",
    "        cv2.rectangle(img, (bats1_x, bats1_y), (bats1_x+bats1_w, bats1_y+bats1_h), (255, 20, 60), 2)\n",
    "        cv2.rectangle(img, (bats2_x, bats2_y), (bats2_x+bats2_w, bats2_y+bats2_h), (0, 255, 0), 2) \n",
    "        cv2.rectangle(img, (score_x, score_y), (score_x+score_w, score_y+score_h), (255, 255, 255), 2)\n",
    "        cv2.imshow('frame', img)\n",
    "\n",
    "        \n",
    "        if cv2.waitKey(1) & 0xFF == ord('q'):\n",
    "            break   \n",
    "    else:\n",
    "        break \n",
    "      \n",
    "\n",
    "cv2.destroyAllWindows()\n",
    "\n",
    "print('--- %s seconds ---' % (time.time() - start_time))\n",
    "\n",
    "\n"
   ]
  },
  {
   "cell_type": "code",
   "execution_count": 10,
   "metadata": {},
   "outputs": [
    {
     "data": {
      "text/plain": [
       "'\\n# Load image, grayscale, Otsu\\'s threshold\\nimage = cv2.imread(\\'temp\\\\extracted_1.jpg\\')\\ngray = cv2.cvtColor(image, cv2.COLOR_BGR2GRAY)\\nthresh = cv2.threshold(gray, 0, 255, cv2.THRESH_OTSU + cv2.THRESH_BINARY_INV)[1]\\n\\n# Find contours, sort from left-to-right, then crop\\ncnts = cv2.findContours(thresh, cv2.RETR_EXTERNAL, cv2.CHAIN_APPROX_SIMPLE)\\ncnts = cnts[0] if len(cnts) == 2 else cnts[1]\\ncnts, _ = contours.sort_contours(cnts, method=\"left-to-right\")\\n\\n# Filter using contour area and extract ROI\\nROI_number = 0\\nfor c in cnts:\\n    area = cv2.contourArea(c)\\n    if area > 10:\\n        x,y,w,h = cv2.boundingRect(c)\\n        ROI = image[y:y+h, x:x+w]\\n        cv2.imwrite(\\'ROI_{}.png\\'.format(ROI_number), ROI)\\n        cv2.rectangle(image, (x, y), (x + w, y + h), (36,255,12), 2)\\n        ROI_number += 1\\n\\ncv2.imshow(\\'thresh\\', thresh)\\ncv2.imshow(\\'image\\', image)\\ncv2.waitKey()'"
      ]
     },
     "execution_count": 10,
     "metadata": {},
     "output_type": "execute_result"
    },
    {
     "ename": "",
     "evalue": "",
     "output_type": "error",
     "traceback": [
      "\u001b[1;31mThe Kernel crashed while executing code in the the current cell or a previous cell. Please review the code in the cell(s) to identify a possible cause of the failure. Click <a href='https://aka.ms/vscodeJupyterKernelCrash'>here</a> for more info. View Jupyter <a href='command:jupyter.viewOutput'>log</a> for further details."
     ]
    }
   ],
   "source": [
    "\"\"\"\n",
    "# Load image, grayscale, Otsu's threshold\n",
    "image = cv2.imread('temp\\extracted_1.jpg')\n",
    "gray = cv2.cvtColor(image, cv2.COLOR_BGR2GRAY)\n",
    "thresh = cv2.threshold(gray, 0, 255, cv2.THRESH_OTSU + cv2.THRESH_BINARY_INV)[1]\n",
    "\n",
    "# Find contours, sort from left-to-right, then crop\n",
    "cnts = cv2.findContours(thresh, cv2.RETR_EXTERNAL, cv2.CHAIN_APPROX_SIMPLE)\n",
    "cnts = cnts[0] if len(cnts) == 2 else cnts[1]\n",
    "cnts, _ = contours.sort_contours(cnts, method=\"left-to-right\")\n",
    "\n",
    "# Filter using contour area and extract ROI\n",
    "ROI_number = 0\n",
    "for c in cnts:\n",
    "    area = cv2.contourArea(c)\n",
    "    if area > 10:\n",
    "        x,y,w,h = cv2.boundingRect(c)\n",
    "        ROI = image[y:y+h, x:x+w]\n",
    "        cv2.imwrite('ROI_{}.png'.format(ROI_number), ROI)\n",
    "        cv2.rectangle(image, (x, y), (x + w, y + h), (36,255,12), 2)\n",
    "        ROI_number += 1\n",
    "\n",
    "cv2.imshow('thresh', thresh)\n",
    "cv2.imshow('image', image)\n",
    "cv2.waitKey()\"\"\""
   ]
  }
 ],
 "metadata": {
  "kernelspec": {
   "display_name": "Python 3",
   "language": "python",
   "name": "python3"
  },
  "language_info": {
   "codemirror_mode": {
    "name": "ipython",
    "version": 3
   },
   "file_extension": ".py",
   "mimetype": "text/x-python",
   "name": "python",
   "nbconvert_exporter": "python",
   "pygments_lexer": "ipython3",
   "version": "3.9.13"
  },
  "orig_nbformat": 4
 },
 "nbformat": 4,
 "nbformat_minor": 2
}
