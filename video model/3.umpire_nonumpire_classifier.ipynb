{
 "cells": [
  {
   "cell_type": "code",
   "execution_count": 1,
   "metadata": {},
   "outputs": [],
   "source": [
    "import pickle\n",
    "import time\n",
    "import os\n",
    "\n",
    "import numpy as np\n",
    "from sklearn.metrics import accuracy_score\n",
    "from sklearn import svm\n",
    "from sklearn.model_selection import train_test_split\n",
    "from sklearn.model_selection import cross_val_score\n",
    "from sklearn.svm import LinearSVC\n",
    "from sklearn.model_selection import LeaveOneOut"
   ]
  },
  {
   "cell_type": "code",
   "execution_count": 2,
   "metadata": {},
   "outputs": [],
   "source": [
    "feature_path = os.path.abspath('./features')\n",
    "model_save_path = os.path.abspath('./models')\n",
    "leave_one_out_validation = False"
   ]
  },
  {
   "cell_type": "code",
   "execution_count": 3,
   "metadata": {},
   "outputs": [
    {
     "name": "stdout",
     "output_type": "stream",
     "text": [
      "Training Accuracy: 0.9364 (+/- 0.11)\n",
      "Test Accuracy: 0.9667\n",
      "--- 0.9353518486022949 seconds ---\n"
     ]
    }
   ],
   "source": [
    "#Storing the extracted features\n",
    "non_umpire = np.load(f'{feature_path}/model1_inception_features_non_umpire.npy')\n",
    "umpire = np.load(f'{feature_path}/model1_inception_features_umpire.npy')\n",
    "\n",
    "X_data = np.append(non_umpire, umpire, axis=0)\n",
    "labels = X_data[:, (X_data.shape[1]-1)]\n",
    "train_data = X_data[:, 0:(X_data.shape[1]-1)]\n",
    "\n",
    "x_tr, x_ts, y_tr, y_ts = train_test_split(train_data, labels, test_size=0.2, random_state=10)\n",
    "\n",
    "#Classifier using Linear SVM\n",
    "clf = LinearSVC(C=10)\n",
    "start_time = time.time()\n",
    "clf = clf.fit(x_tr, y_tr)\n",
    "predictions_tr = (clf.predict(x_ts))\n",
    "\n",
    "#10-fold Cross-Validation    \n",
    "scores = cross_val_score(clf, x_tr, y_tr, cv=10)\n",
    "test_acc = accuracy_score(y_ts, predictions_tr)\n",
    "\n",
    "print(\"Training Accuracy: %0.4f (+/- %0.2f)\" % (scores.mean(), scores.std() * 2))\n",
    "print(\"Test Accuracy: %0.4f\" % test_acc)\n",
    "print(\"--- %s seconds ---\" % (time.time() - start_time))\n",
    "\n",
    "#Leave One Out Validation\n",
    "if leave_one_out_validation:\n",
    "   loo_train_acc = []\n",
    "   loo = LeaveOneOut()\n",
    "   for train_index, test_index in loo.split(x_tr):\n",
    "      X_train, X_test = x_tr[train_index], x_tr[test_index]\n",
    "      y_train, y_test = y_tr[train_index], y_tr[test_index]\n",
    "      clf = clf.fit(X_train, y_train)\n",
    "      predictions = (clf.predict(X_test))\n",
    "      loo_train_acc.append(accuracy_score(y_test, predictions))\n",
    "\n",
    "   loo_train_accuracy = np.asarray(loo_train_acc)\n",
    "   print(\"LOO Accuracy: %0.4f\" % loo_train_accuracy.mean())\n",
    "\n",
    "#Save the model\n",
    "pickle.dump(clf, open(f'{model_save_path}/model1_inception_svm.sav', 'wb'))"
   ]
  }
 ],
 "metadata": {
  "kernelspec": {
   "display_name": "Python 3",
   "language": "python",
   "name": "python3"
  },
  "language_info": {
   "codemirror_mode": {
    "name": "ipython",
    "version": 3
   },
   "file_extension": ".py",
   "mimetype": "text/x-python",
   "name": "python",
   "nbconvert_exporter": "python",
   "pygments_lexer": "ipython3",
   "version": "3.9.13"
  },
  "orig_nbformat": 4
 },
 "nbformat": 4,
 "nbformat_minor": 2
}
